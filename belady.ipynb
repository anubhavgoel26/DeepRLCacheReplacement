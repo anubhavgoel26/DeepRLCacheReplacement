{
 "cells": [
  {
   "cell_type": "code",
   "execution_count": 1,
   "id": "9895f207-bae2-43ee-b351-95c7a68c86c5",
   "metadata": {},
   "outputs": [],
   "source": [
    "import pandas as pd\n",
    "\n",
    "data = list(pd.read_csv(\"data/zipf_10k.csv\")['blocksector'])"
   ]
  },
  {
   "cell_type": "code",
   "execution_count": 2,
   "id": "2cebe3e4-b3d3-40b4-84ca-acd1e5ad5eb3",
   "metadata": {},
   "outputs": [],
   "source": [
    "def belady_min(addresses, cache_size):\n",
    "    next_occurences = dict()\n",
    "    cache = set()\n",
    "\n",
    "    for addr in set(addresses):\n",
    "        next_occurences[addr] = []\n",
    "\n",
    "    for i, addr in enumerate(addresses):\n",
    "        next_occurences[addr].append(i)\n",
    "\n",
    "    page_faults = 0\n",
    "    for i, addr in enumerate(addresses):        \n",
    "        if addr not in cache:\n",
    "            page_faults += 1\n",
    "\n",
    "            if len(cache) == cache_size:\n",
    "                # kick out page with the farthest next occurrence\n",
    "                farthest_elem = None\n",
    "                farthest_idx = None\n",
    "                \n",
    "                for eviction_candidate in cache:\n",
    "                    occurences = next_occurences[eviction_candidate]\n",
    "                    \n",
    "                    if occurences[-1] <= i:\n",
    "                        # eviction_candidate never used again, remove\n",
    "                        farthest_elem = eviction_candidate\n",
    "                        break\n",
    "\n",
    "                    idx = -1\n",
    "                    \n",
    "                    for occ in occurences:\n",
    "                        if occ > i:\n",
    "                            idx = occ\n",
    "                            break\n",
    "                    \n",
    "                    if farthest_idx is None or idx > farthest_idx:\n",
    "                        farthest_elem = eviction_candidate\n",
    "                        farthest_idx = idx\n",
    "\n",
    "                cache.remove(farthest_elem)\n",
    "            # Add the new page to memory\n",
    "            cache.add(addr)\n",
    "    return page_faults"
   ]
  },
  {
   "cell_type": "code",
   "execution_count": 3,
   "id": "7b19aab0-e824-4ac0-b218-668d37d863ad",
   "metadata": {},
   "outputs": [
    {
     "data": {
      "text/plain": [
       "160044"
      ]
     },
     "execution_count": 3,
     "metadata": {},
     "output_type": "execute_result"
    }
   ],
   "source": [
    "belady_min(data, 5)"
   ]
  },
  {
   "cell_type": "code",
   "execution_count": 4,
   "id": "af2ceb50-ca17-45a0-a140-f27ec2d7e32e",
   "metadata": {},
   "outputs": [
    {
     "data": {
      "text/plain": [
       "107588"
      ]
     },
     "execution_count": 4,
     "metadata": {},
     "output_type": "execute_result"
    }
   ],
   "source": [
    "belady_min(data, 10)"
   ]
  },
  {
   "cell_type": "code",
   "execution_count": 5,
   "id": "b9f78e9e-f8c0-4c19-8d1e-0095704796ca",
   "metadata": {},
   "outputs": [
    {
     "data": {
      "text/plain": [
       "43937"
      ]
     },
     "execution_count": 5,
     "metadata": {},
     "output_type": "execute_result"
    }
   ],
   "source": [
    "belady_min(data, 50)"
   ]
  },
  {
   "cell_type": "code",
   "execution_count": 6,
   "id": "965878f9-959c-449e-befc-ed5630fa1f40",
   "metadata": {},
   "outputs": [
    {
     "data": {
      "text/plain": [
       "30092"
      ]
     },
     "execution_count": 6,
     "metadata": {},
     "output_type": "execute_result"
    }
   ],
   "source": [
    "belady_min(data, 100)"
   ]
  },
  {
   "cell_type": "code",
   "execution_count": null,
   "id": "a06375f8-8784-4f94-b502-0f27aa575ce2",
   "metadata": {},
   "outputs": [],
   "source": []
  }
 ],
 "metadata": {
  "kernelspec": {
   "display_name": "Python 3 (ipykernel)",
   "language": "python",
   "name": "python3"
  },
  "language_info": {
   "codemirror_mode": {
    "name": "ipython",
    "version": 3
   },
   "file_extension": ".py",
   "mimetype": "text/x-python",
   "name": "python",
   "nbconvert_exporter": "python",
   "pygments_lexer": "ipython3",
   "version": "3.9.19"
  }
 },
 "nbformat": 4,
 "nbformat_minor": 5
}
